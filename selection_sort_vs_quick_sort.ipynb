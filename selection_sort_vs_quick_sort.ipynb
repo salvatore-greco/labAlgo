{
  "cells": [
    {
      "metadata": {
        "id": "a98e6ae5a394ad51"
      },
      "cell_type": "markdown",
      "source": [
        "# Confronto fra algoritmi di ordinamento: Selection Sort VS Quick Sort\n",
        "Preliminarmente importo le librerie necessarie allo svolgimento dell'esercizio\n"
      ],
      "id": "a98e6ae5a394ad51"
    },
    {
      "cell_type": "code",
      "source": [
        "from timeit import default_timer as timer\n",
        "from random import randint\n",
        "import copy"
      ],
      "metadata": {
        "id": "o9PYAyZanN5r"
      },
      "id": "o9PYAyZanN5r",
      "execution_count": 16,
      "outputs": []
    },
    {
      "cell_type": "markdown",
      "source": [
        "# Descrizione degli algoritmi\n",
        "## Selection sort\n",
        "Selection sort è un algoritmo di ordinamento basato su confronti che ordina sul posto.\n",
        "\n",
        "### **Funzionamento**\n",
        "Il suo funzionamento molto semplice è composto da 2 parti:\n",
        "1. La ricerca dell'elemento con valore massimo\n",
        "2. Lo scambio del suddetto elemento con l'ultimo elemento dell'array non ordinato\n",
        "\n",
        "\n",
        "Divide così l'array in 2 partizioni: una ordinata e una non ordinata.\n",
        "\n",
        "### **Complessità**\n",
        "Selection sort ha una complessità computazionale di $O(n^2)$ data dalla ricerca del massimo nel sottoarray non ordinato eseguita $n$ volte (ciclo esterno, indice i)\n"
      ],
      "metadata": {
        "id": "7XvGO59NnVGf"
      },
      "id": "7XvGO59NnVGf"
    },
    {
      "cell_type": "code",
      "source": [
        "def selection_sort(array):\n",
        "  n = len(array)\n",
        "  for i in range(n-1):\n",
        "    # Ricerca del massimo\n",
        "    max = 0 # indice del valore massimo\n",
        "    for j in range(n-i):\n",
        "      if array[j] > array[max]:\n",
        "        max = j\n",
        "\n",
        "    # Scambio\n",
        "    array[max], array[n-i-1] = array[n-i-1], array[max]"
      ],
      "metadata": {
        "id": "3PvMHsJDjZSl"
      },
      "id": "3PvMHsJDjZSl",
      "execution_count": null,
      "outputs": []
    },
    {
      "cell_type": "markdown",
      "source": [
        "## Quick Sort\n",
        "Quick sort è un algoritmo di ordinamento basato su confronti che ordina sul posto; si basa sul metodo divide et impera.\n",
        "\n",
        "### **Funzionamento**\n",
        "L'algoritmo si esprime bene in modo ricorsivo. \\\n",
        "Per il suo funzionamento è necessaria una funzione, `partition`. Fissato un elemento, il pivot, `partition` confronta gli elementi dell'array con il pivot e partiziona l'array col pivot in posizione centrale, a sinistra gli elementi minori e a destra gli elementi maggiori di esso. Al termine di partition il pivot è nella sua posizione definitiva. \\\n",
        "\n",
        "### **Complessità**\n",
        "Possiamo suddividere l'analisi in caso migliore, medio e peggiore \\\n",
        "**Caso peggiore** \\\n",
        "**Caso migliore** \\\n",
        "**Caso medio** \\\n",
        "(non mi va di scriverle ora, lo farò domani)\n",
        "\n"
      ],
      "metadata": {
        "id": "klT_av17q_yv"
      },
      "id": "klT_av17q_yv"
    },
    {
      "cell_type": "code",
      "source": [
        "def quickSort(array, p,r):\n",
        "  def _partition(array, p,r):\n",
        "    x = array[r]\n",
        "    i = p-1\n",
        "    for j in range(p,r):\n",
        "      if array[j]<=x:\n",
        "        i += 1\n",
        "        array[i], array[j] = array[j], array[i]\n",
        "    array[i+1], array[r] = array[r], array[i+1]\n",
        "    return i+1\n",
        "  if p<r:\n",
        "    pivot = _partition(array, p,r)\n",
        "    quickSort(array, p, pivot-1)\n",
        "    quickSort(array, pivot+1, r)"
      ],
      "metadata": {
        "id": "oTxMfVuoyDfZ"
      },
      "id": "oTxMfVuoyDfZ",
      "execution_count": null,
      "outputs": []
    },
    {
      "cell_type": "markdown",
      "source": [
        "## Confronto fra gli algoritmi\n",
        "Per il confronto mi servirò di alcune funzioni ausiliarie\n",
        "- generateData: genera l'array con i dati da ordinare\n",
        "- test: misura il tempo di esecuzione in secondi, attraverso `timeit.default_timer()`"
      ],
      "metadata": {
        "id": "qGIUutca1rG-"
      },
      "id": "qGIUutca1rG-"
    },
    {
      "cell_type": "code",
      "source": [
        "def generateData(size, upperBound = 10000):\n",
        "  data = []\n",
        "  for _ in range(size):\n",
        "    data.append(randint(0,upperBound))\n",
        "  return data"
      ],
      "metadata": {
        "id": "5MUGtB3b10H6"
      },
      "id": "5MUGtB3b10H6",
      "execution_count": null,
      "outputs": []
    },
    {
      "cell_type": "code",
      "source": [
        "def test(algorithm, data):\n",
        "  start = timer()\n",
        "  # Faccio così almeno genero una volta\n",
        "  # il dataset e chiamo test su una porzione di esso\n",
        "  algorithm(copy.deepcopy(data))\n",
        "  end = timer()\n",
        "  return end-start"
      ],
      "metadata": {
        "id": "uaauH1qv3YyK"
      },
      "id": "uaauH1qv3YyK",
      "execution_count": null,
      "outputs": []
    }
  ],
  "metadata": {
    "kernelspec": {
      "display_name": "Python 3",
      "language": "python",
      "name": "python3"
    },
    "language_info": {
      "codemirror_mode": {
        "name": "ipython",
        "version": 2
      },
      "file_extension": ".py",
      "mimetype": "text/x-python",
      "name": "python",
      "nbconvert_exporter": "python",
      "pygments_lexer": "ipython2",
      "version": "2.7.6"
    },
    "colab": {
      "provenance": []
    }
  },
  "nbformat": 4,
  "nbformat_minor": 5
}